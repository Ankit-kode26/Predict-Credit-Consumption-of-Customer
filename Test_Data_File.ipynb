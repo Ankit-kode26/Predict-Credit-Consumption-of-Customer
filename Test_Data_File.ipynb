{
 "cells": [
  {
   "cell_type": "code",
   "execution_count": 1,
   "id": "82738f68",
   "metadata": {},
   "outputs": [],
   "source": [
    "import pandas as pd\n",
    "import numpy as np\n",
    "import matplotlib.pyplot as plt\n",
    "import seaborn as sns \n",
    "import warnings \n",
    "import os\n",
    "warnings.filterwarnings('ignore')"
   ]
  },
  {
   "cell_type": "code",
   "execution_count": null,
   "id": "5ffd33ec",
   "metadata": {},
   "outputs": [],
   "source": []
  },
  {
   "cell_type": "markdown",
   "id": "f4574fa1",
   "metadata": {},
   "source": [
    "## UPLOADING THE DATA "
   ]
  },
  {
   "cell_type": "code",
   "execution_count": 2,
   "id": "f26f7975",
   "metadata": {},
   "outputs": [],
   "source": [
    "df = pd.read_csv('testtt.csv')"
   ]
  },
  {
   "cell_type": "code",
   "execution_count": 3,
   "id": "2431dae8",
   "metadata": {},
   "outputs": [],
   "source": [
    "df.drop(columns = 'cc_cons',inplace = True)"
   ]
  },
  {
   "cell_type": "code",
   "execution_count": 4,
   "id": "5303289b",
   "metadata": {},
   "outputs": [],
   "source": [
    "final_df = df['ID']"
   ]
  },
  {
   "cell_type": "markdown",
   "id": "76d8c6ab",
   "metadata": {},
   "source": [
    "## Handling Null Values"
   ]
  },
  {
   "cell_type": "code",
   "execution_count": 5,
   "id": "2fbb548b",
   "metadata": {},
   "outputs": [
    {
     "data": {
      "text/plain": [
       "ID                              0\n",
       "cc_cons_apr                     0\n",
       "dc_cons_apr                     0\n",
       "cc_cons_may                     0\n",
       "dc_cons_may                     0\n",
       "cc_cons_jun                     0\n",
       "dc_cons_jun                     0\n",
       "cc_count_apr                    0\n",
       "cc_count_may                    0\n",
       "cc_count_jun                    0\n",
       "dc_count_apr                    0\n",
       "dc_count_may                    0\n",
       "dc_count_jun                    0\n",
       "card_lim                        0\n",
       "personal_loan_active            0\n",
       "vehicle_loan_active             0\n",
       "personal_loan_closed            0\n",
       "vehicle_loan_closed             0\n",
       "investment_1                    0\n",
       "investment_2                    0\n",
       "investment_3                    0\n",
       "investment_4                    0\n",
       "debit_amount_apr                0\n",
       "credit_amount_apr               0\n",
       "debit_count_apr                 0\n",
       "credit_count_apr                0\n",
       "max_credit_amount_apr           0\n",
       "debit_amount_may                0\n",
       "credit_amount_may               0\n",
       "credit_count_may                0\n",
       "debit_count_may                 0\n",
       "max_credit_amount_may           0\n",
       "debit_amount_jun                0\n",
       "credit_amount_jun               0\n",
       "credit_count_jun                0\n",
       "debit_count_jun                 0\n",
       "max_credit_amount_jun           0\n",
       "loan_enq                        0\n",
       "emi_active                      0\n",
       "account_type                    0\n",
       "gender                          0\n",
       "age                             0\n",
       "Income                          0\n",
       "Emp_Tenure_Years                0\n",
       "Tenure_with_Bank                0\n",
       "region_code                     0\n",
       "NetBanking_Flag                 0\n",
       "Avg_days_between_transaction    0\n",
       "dtype: int64"
      ]
     },
     "execution_count": 5,
     "metadata": {},
     "output_type": "execute_result"
    }
   ],
   "source": [
    "df.isnull().sum()"
   ]
  },
  {
   "cell_type": "markdown",
   "id": "deb32af1",
   "metadata": {},
   "source": [
    "### There are No Null Values"
   ]
  },
  {
   "cell_type": "code",
   "execution_count": null,
   "id": "f633c043",
   "metadata": {},
   "outputs": [],
   "source": []
  },
  {
   "cell_type": "markdown",
   "id": "2f248f79",
   "metadata": {},
   "source": [
    "## Converting Categorical values into Numerical "
   ]
  },
  {
   "cell_type": "code",
   "execution_count": 6,
   "id": "1edcb4f0",
   "metadata": {},
   "outputs": [],
   "source": [
    "df = df[(df['gender']!='0')&(df['Income']!='0')]"
   ]
  },
  {
   "cell_type": "code",
   "execution_count": 7,
   "id": "c5e76c6e-8cf6-428a-9e05-c14ab213681d",
   "metadata": {},
   "outputs": [],
   "source": [
    "cat_col = ['loan_enq','account_type', 'gender', 'Income']"
   ]
  },
  {
   "cell_type": "code",
   "execution_count": 8,
   "id": "42da5849-cf6f-4cd8-8a53-7460afb66239",
   "metadata": {},
   "outputs": [],
   "source": [
    "x_encoded = pd.get_dummies(df,columns = cat_col, drop_first=True)"
   ]
  },
  {
   "cell_type": "code",
   "execution_count": null,
   "id": "1ae97f57-5ab8-45fd-a570-880548173920",
   "metadata": {},
   "outputs": [],
   "source": []
  },
  {
   "cell_type": "markdown",
   "id": "d84c1281",
   "metadata": {},
   "source": [
    "## STANDARDIZATION"
   ]
  },
  {
   "cell_type": "code",
   "execution_count": 9,
   "id": "4a00e5d9",
   "metadata": {},
   "outputs": [],
   "source": [
    "import pickle\n",
    "with open('./standardscaler.pkl','rb') as file:\n",
    "    ss = pickle.load(file)"
   ]
  },
  {
   "cell_type": "code",
   "execution_count": 10,
   "id": "8ca7bcb8",
   "metadata": {},
   "outputs": [],
   "source": [
    "x_ft = ss.fit_transform(x_encoded)\n",
    "x_ft = pd.DataFrame(x_ft)"
   ]
  },
  {
   "cell_type": "code",
   "execution_count": null,
   "id": "a388e2a5",
   "metadata": {},
   "outputs": [],
   "source": []
  },
  {
   "cell_type": "markdown",
   "id": "db3edf25",
   "metadata": {},
   "source": [
    "## PREDICTING FINAL DATA "
   ]
  },
  {
   "cell_type": "code",
   "execution_count": 11,
   "id": "b59c6711",
   "metadata": {},
   "outputs": [],
   "source": [
    "with open('./BestModel_lgbm.pkl','rb') as file:\n",
    "    lgbm = pickle.load(file)"
   ]
  },
  {
   "cell_type": "code",
   "execution_count": 12,
   "id": "f16b5e23",
   "metadata": {},
   "outputs": [],
   "source": [
    "pred = lgbm.predict(x_ft)\n",
    "pred = np.exp(pred)"
   ]
  },
  {
   "cell_type": "code",
   "execution_count": 13,
   "id": "7561d52a",
   "metadata": {},
   "outputs": [],
   "source": [
    "pred_df = pd.DataFrame(pred,columns = ['cc_cons'])\n",
    "submit_df = pd.concat([final_df,pred_df],axis = 1)"
   ]
  },
  {
   "cell_type": "code",
   "execution_count": 14,
   "id": "83ac1201",
   "metadata": {},
   "outputs": [],
   "source": [
    "submit_df.to_csv('Final_Submission.csv',index = False)"
   ]
  },
  {
   "cell_type": "code",
   "execution_count": null,
   "id": "af273311",
   "metadata": {},
   "outputs": [],
   "source": []
  }
 ],
 "metadata": {
  "kernelspec": {
   "display_name": "Python [conda env:base] *",
   "language": "python",
   "name": "conda-base-py"
  },
  "language_info": {
   "codemirror_mode": {
    "name": "ipython",
    "version": 3
   },
   "file_extension": ".py",
   "mimetype": "text/x-python",
   "name": "python",
   "nbconvert_exporter": "python",
   "pygments_lexer": "ipython3",
   "version": "3.13.5"
  }
 },
 "nbformat": 4,
 "nbformat_minor": 5
}
